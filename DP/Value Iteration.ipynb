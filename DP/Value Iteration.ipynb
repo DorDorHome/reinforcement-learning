{
 "cells": [
  {
   "cell_type": "code",
   "execution_count": 1,
   "metadata": {
    "collapsed": true
   },
   "outputs": [],
   "source": [
    "import numpy as np\n",
    "import pprint\n",
    "import sys\n",
    "if \"../\" not in sys.path:\n",
    "  sys.path.append(\"../\") \n",
    "from lib.envs.gridworld import GridworldEnv"
   ]
  },
  {
   "cell_type": "code",
   "execution_count": 2,
   "metadata": {
    "collapsed": true
   },
   "outputs": [],
   "source": [
    "pp = pprint.PrettyPrinter(indent=2)\n",
    "env = GridworldEnv()"
   ]
  },
  {
   "cell_type": "code",
   "execution_count": 45,
   "metadata": {
    "collapsed": true
   },
   "outputs": [],
   "source": [
    "def value_iteration(env, theta=0.0001, discount_factor=1.0):\n",
    "    \"\"\"\n",
    "    Value Iteration Algorithm.\n",
    "    \n",
    "    Args:\n",
    "        env: OpenAI env. env.P represents the transition probabilities of the environment.\n",
    "            env.P[s][a] is a list of transition tuples (prob, next_state, reward, done).\n",
    "            env.nS is a number of states in the environment. \n",
    "            env.nA is a number of actions in the environment.\n",
    "        theta: We stop evaluation once our value function change is less than theta for all states.\n",
    "        discount_factor: Gamma discount factor.\n",
    "        \n",
    "    Returns:\n",
    "        A tuple (policy, V) of the optimal policy and the optimal value function.        \n",
    "    \"\"\"\n",
    "    \n",
    "    # initialize both estimnated value of the optimal policy\n",
    "    # and the estimated optimal policy itself:\n",
    "\n",
    "    V = np.zeros(env.nS)\n",
    "    policy = np.zeros([env.nS, env.nA])\n",
    "    \n",
    "    number_loop = 0\n",
    "    # Implement:\n",
    "    # update loop:\n",
    "    while True:\n",
    "        number_loop += 1 \n",
    "        # first, get the best policy under the current V:\n",
    "        V_before_update = V.copy()\n",
    "       # print('V_before_update: ', V_before_update)\n",
    "        for s in range(env.nS):\n",
    "                    # max over all actions in outer loop:\n",
    "            V[s] = max([\n",
    "                                    np.sum([ \n",
    "                                        # inner loop, \n",
    "                                        # loop through all possible outcomes , then sum over to get expected\n",
    "                                        # for each fixed action from the outer loop\n",
    "                                         prob*(reward + discount_factor*V[next_state])   for (prob, next_state, reward, __ ) in env.P[s][a] ])\n",
    "                                    for a in range(env.nA)]\n",
    "                                    )\n",
    "            \n",
    "        # after looping through all states, check whether the max difference\n",
    "            # between the updated V and original V over all states is less than theta:\n",
    "        # print('after one loop, V_before_update:', V_before_update)\n",
    "        # print('V is ', V)\n",
    "        delta = np.max(np.abs(V - V_before_update))\n",
    "        # print('latest V: ' , V)\n",
    "\n",
    "\n",
    "        # V = np.array(\n",
    "        #     [np.argmax([ \n",
    "        #         np.sum([  ]) for s in range(env.nS)\n",
    "        #         ])]\n",
    "        #     )\n",
    "\n",
    "\n",
    "\n",
    "        # \n",
    "    \n",
    "        print('delta: ', delta)\n",
    "        if delta < theta:\n",
    "            print('ending training.....')\n",
    "            print('total num of updates through all updates:', number_loop)\n",
    "            break \n",
    "\n",
    "\n",
    "\n",
    "\n",
    "\n",
    "    for s in range(env.nS):\n",
    "        policy[s] = np.argmax([\n",
    "                                    np.sum([ \n",
    "                                        # inner loop, \n",
    "                                        # loop through all possible outcomes , then sum over to get expected\n",
    "                                        # for each fixed action from the outer loop\n",
    "                                         prob*(reward + discount_factor*V[next_state])   for (prob, next_state, reward, __ ) in env.P[s][a] ])\n",
    "                                    for a in range(env.nA)])\n",
    "\n",
    "\n",
    "    return policy, V"
   ]
  },
  {
   "cell_type": "code",
   "execution_count": 46,
   "metadata": {},
   "outputs": [
    {
     "name": "stdout",
     "output_type": "stream",
     "text": [
      "delta:  1.0\n",
      "delta:  1.0\n",
      "delta:  1.0\n",
      "delta:  0.0\n",
      "ending training.....\n",
      "total num of updates through all updates: 4\n",
      "Policy Probability Distribution:\n",
      "[[0. 0. 0. 0.]\n",
      " [3. 3. 3. 3.]\n",
      " [3. 3. 3. 3.]\n",
      " [2. 2. 2. 2.]\n",
      " [0. 0. 0. 0.]\n",
      " [0. 0. 0. 0.]\n",
      " [0. 0. 0. 0.]\n",
      " [2. 2. 2. 2.]\n",
      " [0. 0. 0. 0.]\n",
      " [0. 0. 0. 0.]\n",
      " [1. 1. 1. 1.]\n",
      " [2. 2. 2. 2.]\n",
      " [0. 0. 0. 0.]\n",
      " [1. 1. 1. 1.]\n",
      " [1. 1. 1. 1.]\n",
      " [0. 0. 0. 0.]]\n",
      "\n",
      "Reshaped Grid Policy (0=up, 1=right, 2=down, 3=left):\n",
      "[[0 0 0 0]\n",
      " [0 0 0 0]\n",
      " [0 0 0 0]\n",
      " [0 0 0 0]]\n",
      "\n",
      "Value Function:\n",
      "[ 0. -1. -2. -3. -1. -2. -3. -2. -2. -3. -2. -1. -3. -2. -1.  0.]\n",
      "\n",
      "Reshaped Grid Value Function:\n",
      "[[ 0. -1. -2. -3.]\n",
      " [-1. -2. -3. -2.]\n",
      " [-2. -3. -2. -1.]\n",
      " [-3. -2. -1.  0.]]\n",
      "\n"
     ]
    }
   ],
   "source": [
    "policy, v = value_iteration(env)\n",
    "\n",
    "print(\"Policy Probability Distribution:\")\n",
    "print(policy)\n",
    "print(\"\")\n",
    "\n",
    "print(\"Reshaped Grid Policy (0=up, 1=right, 2=down, 3=left):\")\n",
    "print(np.reshape(np.argmax(policy, axis=1), env.shape))\n",
    "print(\"\")\n",
    "\n",
    "print(\"Value Function:\")\n",
    "print(v)\n",
    "print(\"\")\n",
    "\n",
    "print(\"Reshaped Grid Value Function:\")\n",
    "print(v.reshape(env.shape))\n",
    "print(\"\")"
   ]
  },
  {
   "cell_type": "code",
   "execution_count": 47,
   "metadata": {},
   "outputs": [],
   "source": [
    "# Test the value function\n",
    "expected_v = np.array([ 0, -1, -2, -3, -1, -2, -3, -2, -2, -3, -2, -1, -3, -2, -1,  0])\n",
    "np.testing.assert_array_almost_equal(v, expected_v, decimal=2)"
   ]
  },
  {
   "cell_type": "code",
   "execution_count": null,
   "metadata": {},
   "outputs": [],
   "source": []
  },
  {
   "cell_type": "code",
   "execution_count": null,
   "metadata": {},
   "outputs": [],
   "source": []
  }
 ],
 "metadata": {
  "kernelspec": {
   "display_name": "Python 3",
   "language": "python",
   "name": "python3"
  },
  "language_info": {
   "codemirror_mode": {
    "name": "ipython",
    "version": 3
   },
   "file_extension": ".py",
   "mimetype": "text/x-python",
   "name": "python",
   "nbconvert_exporter": "python",
   "pygments_lexer": "ipython3",
   "version": "3.12.1"
  }
 },
 "nbformat": 4,
 "nbformat_minor": 1
}
