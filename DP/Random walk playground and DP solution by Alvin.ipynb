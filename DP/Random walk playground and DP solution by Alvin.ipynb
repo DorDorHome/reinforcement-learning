{
 "cells": [
  {
   "cell_type": "code",
   "execution_count": null,
   "metadata": {},
   "outputs": [],
   "source": []
  },
  {
   "cell_type": "markdown",
   "metadata": {},
   "source": [
    "# This is example 6.2 Random walk from Sutton's book\n"
   ]
  },
  {
   "cell_type": "markdown",
   "metadata": {},
   "source": []
  },
  {
   "cell_type": "code",
   "execution_count": 10,
   "metadata": {},
   "outputs": [],
   "source": [
    "import numpy as np\n",
    "import sys\n",
    "# for visualizing value functions of RL algorithms:\n",
    "import matplotlib.pyplot as plt\n",
    "if \"../\" not in sys.path:\n",
    "  sys.path.append(\"../\")\n",
    "\n",
    "from lib.envs.random_walk_with_grid import RandomWalk\n",
    "\n"
   ]
  },
  {
   "cell_type": "markdown",
   "metadata": {},
   "source": [
    "## setting the the random walk world:"
   ]
  },
  {
   "cell_type": "code",
   "execution_count": 11,
   "metadata": {},
   "outputs": [
    {
     "ename": "TypeError",
     "evalue": "object of type 'int' has no len()",
     "output_type": "error",
     "traceback": [
      "\u001b[0;31m---------------------------------------------------------------------------\u001b[0m",
      "\u001b[0;31mTypeError\u001b[0m                                 Traceback (most recent call last)",
      "Cell \u001b[0;32mIn[11], line 8\u001b[0m\n\u001b[1;32m      1\u001b[0m shape \u001b[38;5;241m=\u001b[39m [\u001b[38;5;241m1\u001b[39m, \u001b[38;5;241m7\u001b[39m] \u001b[38;5;66;03m# the one in the book\u001b[39;00m\n\u001b[1;32m      3\u001b[0m \u001b[38;5;66;03m# since positive and negative terminal states are not set\u001b[39;00m\n\u001b[1;32m      4\u001b[0m \u001b[38;5;66;03m# they should be in the top left and bottom right corners\u001b[39;00m\n\u001b[1;32m      5\u001b[0m \n\u001b[1;32m      6\u001b[0m \u001b[38;5;66;03m# and of reward 1, and -1 respectively\u001b[39;00m\n\u001b[0;32m----> 8\u001b[0m env \u001b[38;5;241m=\u001b[39m \u001b[43mRandomWalk\u001b[49m\u001b[43m(\u001b[49m\u001b[43m)\u001b[49m\n",
      "File \u001b[0;32m~/Desktop/reinforcement_learning_models/learning_gynasium_with_textbook_exercises/reinforcement-learning/DP/../lib/envs/random_walk_with_grid.py:56\u001b[0m, in \u001b[0;36mRandomWalk.__init__\u001b[0;34m(self, shape, positive_terminal_states, negative_terminal_states, reward_into_pos_term_states, reward_into_neg_term_states, drift_vector_prob, initial_state_distribution)\u001b[0m\n\u001b[1;32m     50\u001b[0m nS \u001b[38;5;241m=\u001b[39m np\u001b[38;5;241m.\u001b[39mprod(shape)\n\u001b[1;32m     52\u001b[0m \u001b[38;5;66;03m# 3. number of actions in each state (except terminal states)\u001b[39;00m\n\u001b[1;32m     53\u001b[0m \u001b[38;5;66;03m## the number of actions depends on whether\u001b[39;00m\n\u001b[1;32m     54\u001b[0m \u001b[38;5;66;03m## the grid is 1d or 2d\u001b[39;00m\n\u001b[1;32m     55\u001b[0m \u001b[38;5;66;03m## if 1d, the number of actions is 3 (left, right, stay)\u001b[39;00m\n\u001b[0;32m---> 56\u001b[0m nA \u001b[38;5;241m=\u001b[39m \u001b[38;5;241m2\u001b[39m\u001b[38;5;241m*\u001b[39m\u001b[38;5;241m*\u001b[39m\u001b[38;5;28;43mlen\u001b[39;49m\u001b[43m(\u001b[49m\u001b[38;5;28;43mlen\u001b[39;49m\u001b[43m(\u001b[49m\u001b[43mshape\u001b[49m\u001b[43m)\u001b[49m\u001b[43m)\u001b[49m \u001b[38;5;241m+\u001b[39m \u001b[38;5;241m1\u001b[39m\n\u001b[1;32m     58\u001b[0m \u001b[38;5;66;03m# the height of the space:\u001b[39;00m\n\u001b[1;32m     59\u001b[0m MAX_Y \u001b[38;5;241m=\u001b[39m shape[\u001b[38;5;241m0\u001b[39m] \n",
      "\u001b[0;31mTypeError\u001b[0m: object of type 'int' has no len()"
     ]
    }
   ],
   "source": [
    "\n",
    "shape = [1, 7] # the one in the book\n",
    "\n",
    "# since positive and negative terminal states are not set\n",
    "# they should be in the top left and bottom right corners\n",
    "\n",
    "# and of reward 1, and -1 respectively\n",
    "\n",
    "env = RandomWalk()\n"
   ]
  },
  {
   "cell_type": "code",
   "execution_count": null,
   "metadata": {},
   "outputs": [],
   "source": []
  }
 ],
 "metadata": {
  "kernelspec": {
   "display_name": "RL_with_gymnasium",
   "language": "python",
   "name": "python3"
  },
  "language_info": {
   "codemirror_mode": {
    "name": "ipython",
    "version": 3
   },
   "file_extension": ".py",
   "mimetype": "text/x-python",
   "name": "python",
   "nbconvert_exporter": "python",
   "pygments_lexer": "ipython3",
   "version": "3.12.1"
  }
 },
 "nbformat": 4,
 "nbformat_minor": 2
}
